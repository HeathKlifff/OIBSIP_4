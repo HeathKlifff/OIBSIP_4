{
  "cells": [
    {
      "cell_type": "markdown",
      "source": [
        "## OASIS INFOBYTE DATA SCIENCE INTERNSHIP TASK 4 - EMAIL SPAM DETECTION WITH MACHINE LEARNING\n",
        "\n",
        "# DHAIRYA SAATOLIYA"
      ],
      "metadata": {
        "id": "7vqvGDDpCBjL"
      },
      "id": "7vqvGDDpCBjL"
    },
    {
      "cell_type": "markdown",
      "id": "2f49c1c5",
      "metadata": {
        "papermill": {
          "duration": 0.009185,
          "end_time": "2023-02-22T15:00:46.759655",
          "exception": false,
          "start_time": "2023-02-22T15:00:46.750470",
          "status": "completed"
        },
        "tags": [],
        "id": "2f49c1c5"
      },
      "source": [
        "## Importing required libraries and Data"
      ]
    },
    {
      "cell_type": "code",
      "execution_count": 73,
      "id": "bcf6f4b0",
      "metadata": {
        "execution": {
          "iopub.execute_input": "2023-02-22T15:00:46.782672Z",
          "iopub.status.busy": "2023-02-22T15:00:46.782076Z",
          "iopub.status.idle": "2023-02-22T15:00:47.943766Z",
          "shell.execute_reply": "2023-02-22T15:00:47.941171Z"
        },
        "papermill": {
          "duration": 1.177597,
          "end_time": "2023-02-22T15:00:47.947364",
          "exception": false,
          "start_time": "2023-02-22T15:00:46.769767",
          "status": "completed"
        },
        "tags": [],
        "id": "bcf6f4b0"
      },
      "outputs": [],
      "source": [
        "import pandas as pd\n",
        "import numpy as np\n",
        "import matplotlib.pyplot as plt\n",
        "import seaborn as sns"
      ]
    },
    {
      "cell_type": "code",
      "execution_count": 74,
      "id": "1ed4ebab",
      "metadata": {
        "execution": {
          "iopub.execute_input": "2023-02-22T15:00:47.968730Z",
          "iopub.status.busy": "2023-02-22T15:00:47.968262Z",
          "iopub.status.idle": "2023-02-22T15:00:48.056377Z",
          "shell.execute_reply": "2023-02-22T15:00:48.055009Z"
        },
        "papermill": {
          "duration": 0.102645,
          "end_time": "2023-02-22T15:00:48.059639",
          "exception": false,
          "start_time": "2023-02-22T15:00:47.956994",
          "status": "completed"
        },
        "tags": [],
        "colab": {
          "base_uri": "https://localhost:8080/",
          "height": 206
        },
        "id": "1ed4ebab",
        "outputId": "26cd16a0-337a-433b-b4c5-e501c5a3059d"
      },
      "outputs": [
        {
          "output_type": "execute_result",
          "data": {
            "text/plain": [
              "     v1                                                 v2 Unnamed: 2  \\\n",
              "0   ham  Go until jurong point, crazy.. Available only ...        NaN   \n",
              "1   ham                      Ok lar... Joking wif u oni...        NaN   \n",
              "2  spam  Free entry in 2 a wkly comp to win FA Cup fina...        NaN   \n",
              "3   ham  U dun say so early hor... U c already then say...        NaN   \n",
              "4   ham  Nah I don't think he goes to usf, he lives aro...        NaN   \n",
              "\n",
              "  Unnamed: 3 Unnamed: 4  \n",
              "0        NaN        NaN  \n",
              "1        NaN        NaN  \n",
              "2        NaN        NaN  \n",
              "3        NaN        NaN  \n",
              "4        NaN        NaN  "
            ],
            "text/html": [
              "\n",
              "  <div id=\"df-7c4b7ede-4aac-44a7-a1fd-9c120b37cbd7\">\n",
              "    <div class=\"colab-df-container\">\n",
              "      <div>\n",
              "<style scoped>\n",
              "    .dataframe tbody tr th:only-of-type {\n",
              "        vertical-align: middle;\n",
              "    }\n",
              "\n",
              "    .dataframe tbody tr th {\n",
              "        vertical-align: top;\n",
              "    }\n",
              "\n",
              "    .dataframe thead th {\n",
              "        text-align: right;\n",
              "    }\n",
              "</style>\n",
              "<table border=\"1\" class=\"dataframe\">\n",
              "  <thead>\n",
              "    <tr style=\"text-align: right;\">\n",
              "      <th></th>\n",
              "      <th>v1</th>\n",
              "      <th>v2</th>\n",
              "      <th>Unnamed: 2</th>\n",
              "      <th>Unnamed: 3</th>\n",
              "      <th>Unnamed: 4</th>\n",
              "    </tr>\n",
              "  </thead>\n",
              "  <tbody>\n",
              "    <tr>\n",
              "      <th>0</th>\n",
              "      <td>ham</td>\n",
              "      <td>Go until jurong point, crazy.. Available only ...</td>\n",
              "      <td>NaN</td>\n",
              "      <td>NaN</td>\n",
              "      <td>NaN</td>\n",
              "    </tr>\n",
              "    <tr>\n",
              "      <th>1</th>\n",
              "      <td>ham</td>\n",
              "      <td>Ok lar... Joking wif u oni...</td>\n",
              "      <td>NaN</td>\n",
              "      <td>NaN</td>\n",
              "      <td>NaN</td>\n",
              "    </tr>\n",
              "    <tr>\n",
              "      <th>2</th>\n",
              "      <td>spam</td>\n",
              "      <td>Free entry in 2 a wkly comp to win FA Cup fina...</td>\n",
              "      <td>NaN</td>\n",
              "      <td>NaN</td>\n",
              "      <td>NaN</td>\n",
              "    </tr>\n",
              "    <tr>\n",
              "      <th>3</th>\n",
              "      <td>ham</td>\n",
              "      <td>U dun say so early hor... U c already then say...</td>\n",
              "      <td>NaN</td>\n",
              "      <td>NaN</td>\n",
              "      <td>NaN</td>\n",
              "    </tr>\n",
              "    <tr>\n",
              "      <th>4</th>\n",
              "      <td>ham</td>\n",
              "      <td>Nah I don't think he goes to usf, he lives aro...</td>\n",
              "      <td>NaN</td>\n",
              "      <td>NaN</td>\n",
              "      <td>NaN</td>\n",
              "    </tr>\n",
              "  </tbody>\n",
              "</table>\n",
              "</div>\n",
              "      <button class=\"colab-df-convert\" onclick=\"convertToInteractive('df-7c4b7ede-4aac-44a7-a1fd-9c120b37cbd7')\"\n",
              "              title=\"Convert this dataframe to an interactive table.\"\n",
              "              style=\"display:none;\">\n",
              "        \n",
              "  <svg xmlns=\"http://www.w3.org/2000/svg\" height=\"24px\"viewBox=\"0 0 24 24\"\n",
              "       width=\"24px\">\n",
              "    <path d=\"M0 0h24v24H0V0z\" fill=\"none\"/>\n",
              "    <path d=\"M18.56 5.44l.94 2.06.94-2.06 2.06-.94-2.06-.94-.94-2.06-.94 2.06-2.06.94zm-11 1L8.5 8.5l.94-2.06 2.06-.94-2.06-.94L8.5 2.5l-.94 2.06-2.06.94zm10 10l.94 2.06.94-2.06 2.06-.94-2.06-.94-.94-2.06-.94 2.06-2.06.94z\"/><path d=\"M17.41 7.96l-1.37-1.37c-.4-.4-.92-.59-1.43-.59-.52 0-1.04.2-1.43.59L10.3 9.45l-7.72 7.72c-.78.78-.78 2.05 0 2.83L4 21.41c.39.39.9.59 1.41.59.51 0 1.02-.2 1.41-.59l7.78-7.78 2.81-2.81c.8-.78.8-2.07 0-2.86zM5.41 20L4 18.59l7.72-7.72 1.47 1.35L5.41 20z\"/>\n",
              "  </svg>\n",
              "      </button>\n",
              "      \n",
              "  <style>\n",
              "    .colab-df-container {\n",
              "      display:flex;\n",
              "      flex-wrap:wrap;\n",
              "      gap: 12px;\n",
              "    }\n",
              "\n",
              "    .colab-df-convert {\n",
              "      background-color: #E8F0FE;\n",
              "      border: none;\n",
              "      border-radius: 50%;\n",
              "      cursor: pointer;\n",
              "      display: none;\n",
              "      fill: #1967D2;\n",
              "      height: 32px;\n",
              "      padding: 0 0 0 0;\n",
              "      width: 32px;\n",
              "    }\n",
              "\n",
              "    .colab-df-convert:hover {\n",
              "      background-color: #E2EBFA;\n",
              "      box-shadow: 0px 1px 2px rgba(60, 64, 67, 0.3), 0px 1px 3px 1px rgba(60, 64, 67, 0.15);\n",
              "      fill: #174EA6;\n",
              "    }\n",
              "\n",
              "    [theme=dark] .colab-df-convert {\n",
              "      background-color: #3B4455;\n",
              "      fill: #D2E3FC;\n",
              "    }\n",
              "\n",
              "    [theme=dark] .colab-df-convert:hover {\n",
              "      background-color: #434B5C;\n",
              "      box-shadow: 0px 1px 3px 1px rgba(0, 0, 0, 0.15);\n",
              "      filter: drop-shadow(0px 1px 2px rgba(0, 0, 0, 0.3));\n",
              "      fill: #FFFFFF;\n",
              "    }\n",
              "  </style>\n",
              "\n",
              "      <script>\n",
              "        const buttonEl =\n",
              "          document.querySelector('#df-7c4b7ede-4aac-44a7-a1fd-9c120b37cbd7 button.colab-df-convert');\n",
              "        buttonEl.style.display =\n",
              "          google.colab.kernel.accessAllowed ? 'block' : 'none';\n",
              "\n",
              "        async function convertToInteractive(key) {\n",
              "          const element = document.querySelector('#df-7c4b7ede-4aac-44a7-a1fd-9c120b37cbd7');\n",
              "          const dataTable =\n",
              "            await google.colab.kernel.invokeFunction('convertToInteractive',\n",
              "                                                     [key], {});\n",
              "          if (!dataTable) return;\n",
              "\n",
              "          const docLinkHtml = 'Like what you see? Visit the ' +\n",
              "            '<a target=\"_blank\" href=https://colab.research.google.com/notebooks/data_table.ipynb>data table notebook</a>'\n",
              "            + ' to learn more about interactive tables.';\n",
              "          element.innerHTML = '';\n",
              "          dataTable['output_type'] = 'display_data';\n",
              "          await google.colab.output.renderOutput(dataTable, element);\n",
              "          const docLink = document.createElement('div');\n",
              "          docLink.innerHTML = docLinkHtml;\n",
              "          element.appendChild(docLink);\n",
              "        }\n",
              "      </script>\n",
              "    </div>\n",
              "  </div>\n",
              "  "
            ]
          },
          "metadata": {},
          "execution_count": 74
        }
      ],
      "source": [
        "sp = pd.read_csv('/content/spam.csv', encoding='iso-8859-1') # since the data contain utf-8 characters\n",
        "sp.head()"
      ]
    },
    {
      "cell_type": "markdown",
      "id": "fd226852",
      "metadata": {
        "papermill": {
          "duration": 0.009277,
          "end_time": "2023-02-22T15:00:48.078638",
          "exception": false,
          "start_time": "2023-02-22T15:00:48.069361",
          "status": "completed"
        },
        "tags": [],
        "id": "fd226852"
      },
      "source": [
        "##Information about the data\n"
      ]
    },
    {
      "cell_type": "code",
      "execution_count": 75,
      "id": "45d69f68",
      "metadata": {
        "execution": {
          "iopub.execute_input": "2023-02-22T15:00:48.101051Z",
          "iopub.status.busy": "2023-02-22T15:00:48.100623Z",
          "iopub.status.idle": "2023-02-22T15:00:48.130319Z",
          "shell.execute_reply": "2023-02-22T15:00:48.129041Z"
        },
        "papermill": {
          "duration": 0.044584,
          "end_time": "2023-02-22T15:00:48.133115",
          "exception": false,
          "start_time": "2023-02-22T15:00:48.088531",
          "status": "completed"
        },
        "tags": [],
        "colab": {
          "base_uri": "https://localhost:8080/"
        },
        "id": "45d69f68",
        "outputId": "832e073b-35df-445d-e1da-a1cb95fd7e3b"
      },
      "outputs": [
        {
          "output_type": "stream",
          "name": "stdout",
          "text": [
            "<class 'pandas.core.frame.DataFrame'>\n",
            "RangeIndex: 5572 entries, 0 to 5571\n",
            "Data columns (total 5 columns):\n",
            " #   Column      Non-Null Count  Dtype \n",
            "---  ------      --------------  ----- \n",
            " 0   v1          5572 non-null   object\n",
            " 1   v2          5572 non-null   object\n",
            " 2   Unnamed: 2  50 non-null     object\n",
            " 3   Unnamed: 3  12 non-null     object\n",
            " 4   Unnamed: 4  6 non-null      object\n",
            "dtypes: object(5)\n",
            "memory usage: 217.8+ KB\n"
          ]
        }
      ],
      "source": [
        "sp.info()"
      ]
    },
    {
      "cell_type": "code",
      "execution_count": 76,
      "id": "2a4b4bad",
      "metadata": {
        "execution": {
          "iopub.execute_input": "2023-02-22T15:00:48.155696Z",
          "iopub.status.busy": "2023-02-22T15:00:48.155013Z",
          "iopub.status.idle": "2023-02-22T15:00:48.165789Z",
          "shell.execute_reply": "2023-02-22T15:00:48.164891Z"
        },
        "papermill": {
          "duration": 0.024716,
          "end_time": "2023-02-22T15:00:48.168120",
          "exception": false,
          "start_time": "2023-02-22T15:00:48.143404",
          "status": "completed"
        },
        "tags": [],
        "colab": {
          "base_uri": "https://localhost:8080/"
        },
        "id": "2a4b4bad",
        "outputId": "6f891bb0-2d0d-4563-c2b0-67f97649ea24"
      },
      "outputs": [
        {
          "output_type": "execute_result",
          "data": {
            "text/plain": [
              "v1               0\n",
              "v2               0\n",
              "Unnamed: 2    5522\n",
              "Unnamed: 3    5560\n",
              "Unnamed: 4    5566\n",
              "dtype: int64"
            ]
          },
          "metadata": {},
          "execution_count": 76
        }
      ],
      "source": [
        "sp.isnull().sum()"
      ]
    },
    {
      "cell_type": "code",
      "execution_count": 77,
      "id": "f82aa2c0",
      "metadata": {
        "execution": {
          "iopub.execute_input": "2023-02-22T15:00:48.190300Z",
          "iopub.status.busy": "2023-02-22T15:00:48.189649Z",
          "iopub.status.idle": "2023-02-22T15:00:48.217632Z",
          "shell.execute_reply": "2023-02-22T15:00:48.216302Z"
        },
        "papermill": {
          "duration": 0.042214,
          "end_time": "2023-02-22T15:00:48.220442",
          "exception": false,
          "start_time": "2023-02-22T15:00:48.178228",
          "status": "completed"
        },
        "scrolled": true,
        "tags": [],
        "colab": {
          "base_uri": "https://localhost:8080/",
          "height": 175
        },
        "id": "f82aa2c0",
        "outputId": "5fcb172f-29a4-413f-aa20-901e63ac6132"
      },
      "outputs": [
        {
          "output_type": "execute_result",
          "data": {
            "text/plain": [
              "          v1                      v2  \\\n",
              "count   5572                    5572   \n",
              "unique     2                    5169   \n",
              "top      ham  Sorry, I'll call later   \n",
              "freq    4825                      30   \n",
              "\n",
              "                                               Unnamed: 2  \\\n",
              "count                                                  50   \n",
              "unique                                                 43   \n",
              "top      bt not his girlfrnd... G o o d n i g h t . . .@\"   \n",
              "freq                                                    3   \n",
              "\n",
              "                   Unnamed: 3 Unnamed: 4  \n",
              "count                      12          6  \n",
              "unique                     10          5  \n",
              "top      MK17 92H. 450Ppw 16\"    GNT:-)\"  \n",
              "freq                        2          2  "
            ],
            "text/html": [
              "\n",
              "  <div id=\"df-5dac9c57-6ae9-4289-b91a-e24ec3718089\">\n",
              "    <div class=\"colab-df-container\">\n",
              "      <div>\n",
              "<style scoped>\n",
              "    .dataframe tbody tr th:only-of-type {\n",
              "        vertical-align: middle;\n",
              "    }\n",
              "\n",
              "    .dataframe tbody tr th {\n",
              "        vertical-align: top;\n",
              "    }\n",
              "\n",
              "    .dataframe thead th {\n",
              "        text-align: right;\n",
              "    }\n",
              "</style>\n",
              "<table border=\"1\" class=\"dataframe\">\n",
              "  <thead>\n",
              "    <tr style=\"text-align: right;\">\n",
              "      <th></th>\n",
              "      <th>v1</th>\n",
              "      <th>v2</th>\n",
              "      <th>Unnamed: 2</th>\n",
              "      <th>Unnamed: 3</th>\n",
              "      <th>Unnamed: 4</th>\n",
              "    </tr>\n",
              "  </thead>\n",
              "  <tbody>\n",
              "    <tr>\n",
              "      <th>count</th>\n",
              "      <td>5572</td>\n",
              "      <td>5572</td>\n",
              "      <td>50</td>\n",
              "      <td>12</td>\n",
              "      <td>6</td>\n",
              "    </tr>\n",
              "    <tr>\n",
              "      <th>unique</th>\n",
              "      <td>2</td>\n",
              "      <td>5169</td>\n",
              "      <td>43</td>\n",
              "      <td>10</td>\n",
              "      <td>5</td>\n",
              "    </tr>\n",
              "    <tr>\n",
              "      <th>top</th>\n",
              "      <td>ham</td>\n",
              "      <td>Sorry, I'll call later</td>\n",
              "      <td>bt not his girlfrnd... G o o d n i g h t . . .@\"</td>\n",
              "      <td>MK17 92H. 450Ppw 16\"</td>\n",
              "      <td>GNT:-)\"</td>\n",
              "    </tr>\n",
              "    <tr>\n",
              "      <th>freq</th>\n",
              "      <td>4825</td>\n",
              "      <td>30</td>\n",
              "      <td>3</td>\n",
              "      <td>2</td>\n",
              "      <td>2</td>\n",
              "    </tr>\n",
              "  </tbody>\n",
              "</table>\n",
              "</div>\n",
              "      <button class=\"colab-df-convert\" onclick=\"convertToInteractive('df-5dac9c57-6ae9-4289-b91a-e24ec3718089')\"\n",
              "              title=\"Convert this dataframe to an interactive table.\"\n",
              "              style=\"display:none;\">\n",
              "        \n",
              "  <svg xmlns=\"http://www.w3.org/2000/svg\" height=\"24px\"viewBox=\"0 0 24 24\"\n",
              "       width=\"24px\">\n",
              "    <path d=\"M0 0h24v24H0V0z\" fill=\"none\"/>\n",
              "    <path d=\"M18.56 5.44l.94 2.06.94-2.06 2.06-.94-2.06-.94-.94-2.06-.94 2.06-2.06.94zm-11 1L8.5 8.5l.94-2.06 2.06-.94-2.06-.94L8.5 2.5l-.94 2.06-2.06.94zm10 10l.94 2.06.94-2.06 2.06-.94-2.06-.94-.94-2.06-.94 2.06-2.06.94z\"/><path d=\"M17.41 7.96l-1.37-1.37c-.4-.4-.92-.59-1.43-.59-.52 0-1.04.2-1.43.59L10.3 9.45l-7.72 7.72c-.78.78-.78 2.05 0 2.83L4 21.41c.39.39.9.59 1.41.59.51 0 1.02-.2 1.41-.59l7.78-7.78 2.81-2.81c.8-.78.8-2.07 0-2.86zM5.41 20L4 18.59l7.72-7.72 1.47 1.35L5.41 20z\"/>\n",
              "  </svg>\n",
              "      </button>\n",
              "      \n",
              "  <style>\n",
              "    .colab-df-container {\n",
              "      display:flex;\n",
              "      flex-wrap:wrap;\n",
              "      gap: 12px;\n",
              "    }\n",
              "\n",
              "    .colab-df-convert {\n",
              "      background-color: #E8F0FE;\n",
              "      border: none;\n",
              "      border-radius: 50%;\n",
              "      cursor: pointer;\n",
              "      display: none;\n",
              "      fill: #1967D2;\n",
              "      height: 32px;\n",
              "      padding: 0 0 0 0;\n",
              "      width: 32px;\n",
              "    }\n",
              "\n",
              "    .colab-df-convert:hover {\n",
              "      background-color: #E2EBFA;\n",
              "      box-shadow: 0px 1px 2px rgba(60, 64, 67, 0.3), 0px 1px 3px 1px rgba(60, 64, 67, 0.15);\n",
              "      fill: #174EA6;\n",
              "    }\n",
              "\n",
              "    [theme=dark] .colab-df-convert {\n",
              "      background-color: #3B4455;\n",
              "      fill: #D2E3FC;\n",
              "    }\n",
              "\n",
              "    [theme=dark] .colab-df-convert:hover {\n",
              "      background-color: #434B5C;\n",
              "      box-shadow: 0px 1px 3px 1px rgba(0, 0, 0, 0.15);\n",
              "      filter: drop-shadow(0px 1px 2px rgba(0, 0, 0, 0.3));\n",
              "      fill: #FFFFFF;\n",
              "    }\n",
              "  </style>\n",
              "\n",
              "      <script>\n",
              "        const buttonEl =\n",
              "          document.querySelector('#df-5dac9c57-6ae9-4289-b91a-e24ec3718089 button.colab-df-convert');\n",
              "        buttonEl.style.display =\n",
              "          google.colab.kernel.accessAllowed ? 'block' : 'none';\n",
              "\n",
              "        async function convertToInteractive(key) {\n",
              "          const element = document.querySelector('#df-5dac9c57-6ae9-4289-b91a-e24ec3718089');\n",
              "          const dataTable =\n",
              "            await google.colab.kernel.invokeFunction('convertToInteractive',\n",
              "                                                     [key], {});\n",
              "          if (!dataTable) return;\n",
              "\n",
              "          const docLinkHtml = 'Like what you see? Visit the ' +\n",
              "            '<a target=\"_blank\" href=https://colab.research.google.com/notebooks/data_table.ipynb>data table notebook</a>'\n",
              "            + ' to learn more about interactive tables.';\n",
              "          element.innerHTML = '';\n",
              "          dataTable['output_type'] = 'display_data';\n",
              "          await google.colab.output.renderOutput(dataTable, element);\n",
              "          const docLink = document.createElement('div');\n",
              "          docLink.innerHTML = docLinkHtml;\n",
              "          element.appendChild(docLink);\n",
              "        }\n",
              "      </script>\n",
              "    </div>\n",
              "  </div>\n",
              "  "
            ]
          },
          "metadata": {},
          "execution_count": 77
        }
      ],
      "source": [
        "sp.describe()"
      ]
    },
    {
      "cell_type": "markdown",
      "id": "8527fa2e",
      "metadata": {
        "papermill": {
          "duration": 0.00958,
          "end_time": "2023-02-22T15:00:48.240183",
          "exception": false,
          "start_time": "2023-02-22T15:00:48.230603",
          "status": "completed"
        },
        "tags": [],
        "id": "8527fa2e"
      },
      "source": [
        "## Data Preprocessing"
      ]
    },
    {
      "cell_type": "markdown",
      "id": "be152935",
      "metadata": {
        "papermill": {
          "duration": 0.009638,
          "end_time": "2023-02-22T15:00:48.260395",
          "exception": false,
          "start_time": "2023-02-22T15:00:48.250757",
          "status": "completed"
        },
        "tags": [],
        "id": "be152935"
      },
      "source": [
        "Removing the Unnamed columns"
      ]
    },
    {
      "cell_type": "code",
      "execution_count": 78,
      "id": "474261af",
      "metadata": {
        "execution": {
          "iopub.execute_input": "2023-02-22T15:00:48.282557Z",
          "iopub.status.busy": "2023-02-22T15:00:48.282103Z",
          "iopub.status.idle": "2023-02-22T15:00:48.289295Z",
          "shell.execute_reply": "2023-02-22T15:00:48.287975Z"
        },
        "papermill": {
          "duration": 0.021713,
          "end_time": "2023-02-22T15:00:48.292197",
          "exception": false,
          "start_time": "2023-02-22T15:00:48.270484",
          "status": "completed"
        },
        "tags": [],
        "id": "474261af"
      },
      "outputs": [],
      "source": [
        "del sp['Unnamed: 2']\n",
        "del sp['Unnamed: 3']\n",
        "del sp['Unnamed: 4']\n"
      ]
    },
    {
      "cell_type": "code",
      "execution_count": 79,
      "id": "a2109762",
      "metadata": {
        "execution": {
          "iopub.execute_input": "2023-02-22T15:00:48.316323Z",
          "iopub.status.busy": "2023-02-22T15:00:48.315665Z",
          "iopub.status.idle": "2023-02-22T15:00:48.321474Z",
          "shell.execute_reply": "2023-02-22T15:00:48.320662Z"
        },
        "papermill": {
          "duration": 0.019751,
          "end_time": "2023-02-22T15:00:48.323799",
          "exception": false,
          "start_time": "2023-02-22T15:00:48.304048",
          "status": "completed"
        },
        "tags": [],
        "colab": {
          "base_uri": "https://localhost:8080/",
          "height": 175
        },
        "id": "a2109762",
        "outputId": "4c08bf77-4eb0-4b72-8cc8-b8a9a721c70a"
      },
      "outputs": [
        {
          "output_type": "execute_result",
          "data": {
            "text/plain": [
              "       Category                 Message\n",
              "count      5572                    5572\n",
              "unique        2                    5169\n",
              "top         ham  Sorry, I'll call later\n",
              "freq       4825                      30"
            ],
            "text/html": [
              "\n",
              "  <div id=\"df-38d7c45e-f546-4cc2-b642-dbfa5a4b9be6\">\n",
              "    <div class=\"colab-df-container\">\n",
              "      <div>\n",
              "<style scoped>\n",
              "    .dataframe tbody tr th:only-of-type {\n",
              "        vertical-align: middle;\n",
              "    }\n",
              "\n",
              "    .dataframe tbody tr th {\n",
              "        vertical-align: top;\n",
              "    }\n",
              "\n",
              "    .dataframe thead th {\n",
              "        text-align: right;\n",
              "    }\n",
              "</style>\n",
              "<table border=\"1\" class=\"dataframe\">\n",
              "  <thead>\n",
              "    <tr style=\"text-align: right;\">\n",
              "      <th></th>\n",
              "      <th>Category</th>\n",
              "      <th>Message</th>\n",
              "    </tr>\n",
              "  </thead>\n",
              "  <tbody>\n",
              "    <tr>\n",
              "      <th>count</th>\n",
              "      <td>5572</td>\n",
              "      <td>5572</td>\n",
              "    </tr>\n",
              "    <tr>\n",
              "      <th>unique</th>\n",
              "      <td>2</td>\n",
              "      <td>5169</td>\n",
              "    </tr>\n",
              "    <tr>\n",
              "      <th>top</th>\n",
              "      <td>ham</td>\n",
              "      <td>Sorry, I'll call later</td>\n",
              "    </tr>\n",
              "    <tr>\n",
              "      <th>freq</th>\n",
              "      <td>4825</td>\n",
              "      <td>30</td>\n",
              "    </tr>\n",
              "  </tbody>\n",
              "</table>\n",
              "</div>\n",
              "      <button class=\"colab-df-convert\" onclick=\"convertToInteractive('df-38d7c45e-f546-4cc2-b642-dbfa5a4b9be6')\"\n",
              "              title=\"Convert this dataframe to an interactive table.\"\n",
              "              style=\"display:none;\">\n",
              "        \n",
              "  <svg xmlns=\"http://www.w3.org/2000/svg\" height=\"24px\"viewBox=\"0 0 24 24\"\n",
              "       width=\"24px\">\n",
              "    <path d=\"M0 0h24v24H0V0z\" fill=\"none\"/>\n",
              "    <path d=\"M18.56 5.44l.94 2.06.94-2.06 2.06-.94-2.06-.94-.94-2.06-.94 2.06-2.06.94zm-11 1L8.5 8.5l.94-2.06 2.06-.94-2.06-.94L8.5 2.5l-.94 2.06-2.06.94zm10 10l.94 2.06.94-2.06 2.06-.94-2.06-.94-.94-2.06-.94 2.06-2.06.94z\"/><path d=\"M17.41 7.96l-1.37-1.37c-.4-.4-.92-.59-1.43-.59-.52 0-1.04.2-1.43.59L10.3 9.45l-7.72 7.72c-.78.78-.78 2.05 0 2.83L4 21.41c.39.39.9.59 1.41.59.51 0 1.02-.2 1.41-.59l7.78-7.78 2.81-2.81c.8-.78.8-2.07 0-2.86zM5.41 20L4 18.59l7.72-7.72 1.47 1.35L5.41 20z\"/>\n",
              "  </svg>\n",
              "      </button>\n",
              "      \n",
              "  <style>\n",
              "    .colab-df-container {\n",
              "      display:flex;\n",
              "      flex-wrap:wrap;\n",
              "      gap: 12px;\n",
              "    }\n",
              "\n",
              "    .colab-df-convert {\n",
              "      background-color: #E8F0FE;\n",
              "      border: none;\n",
              "      border-radius: 50%;\n",
              "      cursor: pointer;\n",
              "      display: none;\n",
              "      fill: #1967D2;\n",
              "      height: 32px;\n",
              "      padding: 0 0 0 0;\n",
              "      width: 32px;\n",
              "    }\n",
              "\n",
              "    .colab-df-convert:hover {\n",
              "      background-color: #E2EBFA;\n",
              "      box-shadow: 0px 1px 2px rgba(60, 64, 67, 0.3), 0px 1px 3px 1px rgba(60, 64, 67, 0.15);\n",
              "      fill: #174EA6;\n",
              "    }\n",
              "\n",
              "    [theme=dark] .colab-df-convert {\n",
              "      background-color: #3B4455;\n",
              "      fill: #D2E3FC;\n",
              "    }\n",
              "\n",
              "    [theme=dark] .colab-df-convert:hover {\n",
              "      background-color: #434B5C;\n",
              "      box-shadow: 0px 1px 3px 1px rgba(0, 0, 0, 0.15);\n",
              "      filter: drop-shadow(0px 1px 2px rgba(0, 0, 0, 0.3));\n",
              "      fill: #FFFFFF;\n",
              "    }\n",
              "  </style>\n",
              "\n",
              "      <script>\n",
              "        const buttonEl =\n",
              "          document.querySelector('#df-38d7c45e-f546-4cc2-b642-dbfa5a4b9be6 button.colab-df-convert');\n",
              "        buttonEl.style.display =\n",
              "          google.colab.kernel.accessAllowed ? 'block' : 'none';\n",
              "\n",
              "        async function convertToInteractive(key) {\n",
              "          const element = document.querySelector('#df-38d7c45e-f546-4cc2-b642-dbfa5a4b9be6');\n",
              "          const dataTable =\n",
              "            await google.colab.kernel.invokeFunction('convertToInteractive',\n",
              "                                                     [key], {});\n",
              "          if (!dataTable) return;\n",
              "\n",
              "          const docLinkHtml = 'Like what you see? Visit the ' +\n",
              "            '<a target=\"_blank\" href=https://colab.research.google.com/notebooks/data_table.ipynb>data table notebook</a>'\n",
              "            + ' to learn more about interactive tables.';\n",
              "          element.innerHTML = '';\n",
              "          dataTable['output_type'] = 'display_data';\n",
              "          await google.colab.output.renderOutput(dataTable, element);\n",
              "          const docLink = document.createElement('div');\n",
              "          docLink.innerHTML = docLinkHtml;\n",
              "          element.appendChild(docLink);\n",
              "        }\n",
              "      </script>\n",
              "    </div>\n",
              "  </div>\n",
              "  "
            ]
          },
          "metadata": {},
          "execution_count": 79
        }
      ],
      "source": [
        "sp.rename(columns = {'v1':'Category', 'v2':'Message'}, inplace = True)\n",
        "sp.describe()"
      ]
    },
    {
      "cell_type": "code",
      "execution_count": 80,
      "id": "6aa6563f",
      "metadata": {
        "execution": {
          "iopub.execute_input": "2023-02-22T15:00:48.346307Z",
          "iopub.status.busy": "2023-02-22T15:00:48.345579Z",
          "iopub.status.idle": "2023-02-22T15:00:48.357853Z",
          "shell.execute_reply": "2023-02-22T15:00:48.356333Z"
        },
        "papermill": {
          "duration": 0.026975,
          "end_time": "2023-02-22T15:00:48.360938",
          "exception": false,
          "start_time": "2023-02-22T15:00:48.333963",
          "status": "completed"
        },
        "tags": [],
        "colab": {
          "base_uri": "https://localhost:8080/"
        },
        "id": "6aa6563f",
        "outputId": "4634c101-a254-4c3d-ce67-0d0bcd842e75"
      },
      "outputs": [
        {
          "output_type": "execute_result",
          "data": {
            "text/plain": [
              "Category\n",
              "ham     4825\n",
              "spam     747\n",
              "Name: Message, dtype: int64"
            ]
          },
          "metadata": {},
          "execution_count": 80
        }
      ],
      "source": [
        "spam = sp.groupby('Category')['Message'].count()\n",
        "spam"
      ]
    },
    {
      "cell_type": "markdown",
      "source": [
        "# Providing index 1 for Spam and 0 for Ham"
      ],
      "metadata": {
        "id": "J-q1ivbT6LE6"
      },
      "id": "J-q1ivbT6LE6"
    },
    {
      "cell_type": "code",
      "execution_count": 81,
      "id": "3f9c0e76",
      "metadata": {
        "execution": {
          "iopub.execute_input": "2023-02-22T15:00:48.384318Z",
          "iopub.status.busy": "2023-02-22T15:00:48.383857Z",
          "iopub.status.idle": "2023-02-22T15:00:48.551526Z",
          "shell.execute_reply": "2023-02-22T15:00:48.550159Z"
        },
        "papermill": {
          "duration": 0.182994,
          "end_time": "2023-02-22T15:00:48.554206",
          "exception": false,
          "start_time": "2023-02-22T15:00:48.371212",
          "status": "completed"
        },
        "tags": [],
        "colab": {
          "base_uri": "https://localhost:8080/",
          "height": 206
        },
        "id": "3f9c0e76",
        "outputId": "d4caaebd-d4ac-4dd5-d3cb-f986c383b72f"
      },
      "outputs": [
        {
          "output_type": "execute_result",
          "data": {
            "text/plain": [
              "  Category                                            Message  spam\n",
              "0      ham  Go until jurong point, crazy.. Available only ...     0\n",
              "1      ham                      Ok lar... Joking wif u oni...     0\n",
              "2     spam  Free entry in 2 a wkly comp to win FA Cup fina...     1\n",
              "3      ham  U dun say so early hor... U c already then say...     0\n",
              "4      ham  Nah I don't think he goes to usf, he lives aro...     0"
            ],
            "text/html": [
              "\n",
              "  <div id=\"df-b2b5f936-e43a-4181-b3d3-2c2102beb256\">\n",
              "    <div class=\"colab-df-container\">\n",
              "      <div>\n",
              "<style scoped>\n",
              "    .dataframe tbody tr th:only-of-type {\n",
              "        vertical-align: middle;\n",
              "    }\n",
              "\n",
              "    .dataframe tbody tr th {\n",
              "        vertical-align: top;\n",
              "    }\n",
              "\n",
              "    .dataframe thead th {\n",
              "        text-align: right;\n",
              "    }\n",
              "</style>\n",
              "<table border=\"1\" class=\"dataframe\">\n",
              "  <thead>\n",
              "    <tr style=\"text-align: right;\">\n",
              "      <th></th>\n",
              "      <th>Category</th>\n",
              "      <th>Message</th>\n",
              "      <th>spam</th>\n",
              "    </tr>\n",
              "  </thead>\n",
              "  <tbody>\n",
              "    <tr>\n",
              "      <th>0</th>\n",
              "      <td>ham</td>\n",
              "      <td>Go until jurong point, crazy.. Available only ...</td>\n",
              "      <td>0</td>\n",
              "    </tr>\n",
              "    <tr>\n",
              "      <th>1</th>\n",
              "      <td>ham</td>\n",
              "      <td>Ok lar... Joking wif u oni...</td>\n",
              "      <td>0</td>\n",
              "    </tr>\n",
              "    <tr>\n",
              "      <th>2</th>\n",
              "      <td>spam</td>\n",
              "      <td>Free entry in 2 a wkly comp to win FA Cup fina...</td>\n",
              "      <td>1</td>\n",
              "    </tr>\n",
              "    <tr>\n",
              "      <th>3</th>\n",
              "      <td>ham</td>\n",
              "      <td>U dun say so early hor... U c already then say...</td>\n",
              "      <td>0</td>\n",
              "    </tr>\n",
              "    <tr>\n",
              "      <th>4</th>\n",
              "      <td>ham</td>\n",
              "      <td>Nah I don't think he goes to usf, he lives aro...</td>\n",
              "      <td>0</td>\n",
              "    </tr>\n",
              "  </tbody>\n",
              "</table>\n",
              "</div>\n",
              "      <button class=\"colab-df-convert\" onclick=\"convertToInteractive('df-b2b5f936-e43a-4181-b3d3-2c2102beb256')\"\n",
              "              title=\"Convert this dataframe to an interactive table.\"\n",
              "              style=\"display:none;\">\n",
              "        \n",
              "  <svg xmlns=\"http://www.w3.org/2000/svg\" height=\"24px\"viewBox=\"0 0 24 24\"\n",
              "       width=\"24px\">\n",
              "    <path d=\"M0 0h24v24H0V0z\" fill=\"none\"/>\n",
              "    <path d=\"M18.56 5.44l.94 2.06.94-2.06 2.06-.94-2.06-.94-.94-2.06-.94 2.06-2.06.94zm-11 1L8.5 8.5l.94-2.06 2.06-.94-2.06-.94L8.5 2.5l-.94 2.06-2.06.94zm10 10l.94 2.06.94-2.06 2.06-.94-2.06-.94-.94-2.06-.94 2.06-2.06.94z\"/><path d=\"M17.41 7.96l-1.37-1.37c-.4-.4-.92-.59-1.43-.59-.52 0-1.04.2-1.43.59L10.3 9.45l-7.72 7.72c-.78.78-.78 2.05 0 2.83L4 21.41c.39.39.9.59 1.41.59.51 0 1.02-.2 1.41-.59l7.78-7.78 2.81-2.81c.8-.78.8-2.07 0-2.86zM5.41 20L4 18.59l7.72-7.72 1.47 1.35L5.41 20z\"/>\n",
              "  </svg>\n",
              "      </button>\n",
              "      \n",
              "  <style>\n",
              "    .colab-df-container {\n",
              "      display:flex;\n",
              "      flex-wrap:wrap;\n",
              "      gap: 12px;\n",
              "    }\n",
              "\n",
              "    .colab-df-convert {\n",
              "      background-color: #E8F0FE;\n",
              "      border: none;\n",
              "      border-radius: 50%;\n",
              "      cursor: pointer;\n",
              "      display: none;\n",
              "      fill: #1967D2;\n",
              "      height: 32px;\n",
              "      padding: 0 0 0 0;\n",
              "      width: 32px;\n",
              "    }\n",
              "\n",
              "    .colab-df-convert:hover {\n",
              "      background-color: #E2EBFA;\n",
              "      box-shadow: 0px 1px 2px rgba(60, 64, 67, 0.3), 0px 1px 3px 1px rgba(60, 64, 67, 0.15);\n",
              "      fill: #174EA6;\n",
              "    }\n",
              "\n",
              "    [theme=dark] .colab-df-convert {\n",
              "      background-color: #3B4455;\n",
              "      fill: #D2E3FC;\n",
              "    }\n",
              "\n",
              "    [theme=dark] .colab-df-convert:hover {\n",
              "      background-color: #434B5C;\n",
              "      box-shadow: 0px 1px 3px 1px rgba(0, 0, 0, 0.15);\n",
              "      filter: drop-shadow(0px 1px 2px rgba(0, 0, 0, 0.3));\n",
              "      fill: #FFFFFF;\n",
              "    }\n",
              "  </style>\n",
              "\n",
              "      <script>\n",
              "        const buttonEl =\n",
              "          document.querySelector('#df-b2b5f936-e43a-4181-b3d3-2c2102beb256 button.colab-df-convert');\n",
              "        buttonEl.style.display =\n",
              "          google.colab.kernel.accessAllowed ? 'block' : 'none';\n",
              "\n",
              "        async function convertToInteractive(key) {\n",
              "          const element = document.querySelector('#df-b2b5f936-e43a-4181-b3d3-2c2102beb256');\n",
              "          const dataTable =\n",
              "            await google.colab.kernel.invokeFunction('convertToInteractive',\n",
              "                                                     [key], {});\n",
              "          if (!dataTable) return;\n",
              "\n",
              "          const docLinkHtml = 'Like what you see? Visit the ' +\n",
              "            '<a target=\"_blank\" href=https://colab.research.google.com/notebooks/data_table.ipynb>data table notebook</a>'\n",
              "            + ' to learn more about interactive tables.';\n",
              "          element.innerHTML = '';\n",
              "          dataTable['output_type'] = 'display_data';\n",
              "          await google.colab.output.renderOutput(dataTable, element);\n",
              "          const docLink = document.createElement('div');\n",
              "          docLink.innerHTML = docLinkHtml;\n",
              "          element.appendChild(docLink);\n",
              "        }\n",
              "      </script>\n",
              "    </div>\n",
              "  </div>\n",
              "  "
            ]
          },
          "metadata": {},
          "execution_count": 81
        }
      ],
      "source": [
        "from sklearn import preprocessing\n",
        "\n",
        "label_encoder = preprocessing.LabelEncoder()\n",
        "sp['spam'] = label_encoder.fit_transform(sp['Category'])\n",
        "sp.head()"
      ]
    },
    {
      "cell_type": "markdown",
      "id": "4bc8b356",
      "metadata": {
        "papermill": {
          "duration": 0.009911,
          "end_time": "2023-02-22T15:00:48.628657",
          "exception": false,
          "start_time": "2023-02-22T15:00:48.618746",
          "status": "completed"
        },
        "tags": [],
        "id": "4bc8b356"
      },
      "source": [
        "## Splitting the data for Training"
      ]
    },
    {
      "cell_type": "code",
      "execution_count": 82,
      "id": "c3168393",
      "metadata": {
        "execution": {
          "iopub.execute_input": "2023-02-22T15:00:48.598991Z",
          "iopub.status.busy": "2023-02-22T15:00:48.598556Z",
          "iopub.status.idle": "2023-02-22T15:00:48.605728Z",
          "shell.execute_reply": "2023-02-22T15:00:48.604705Z"
        },
        "papermill": {
          "duration": 0.021711,
          "end_time": "2023-02-22T15:00:48.608355",
          "exception": false,
          "start_time": "2023-02-22T15:00:48.586644",
          "status": "completed"
        },
        "tags": [],
        "id": "c3168393"
      },
      "outputs": [],
      "source": [
        "x = sp['Message']\n",
        "y = sp['spam']"
      ]
    },
    {
      "cell_type": "code",
      "execution_count": 83,
      "id": "4f44253a",
      "metadata": {
        "execution": {
          "iopub.execute_input": "2023-02-22T15:00:48.651399Z",
          "iopub.status.busy": "2023-02-22T15:00:48.650227Z",
          "iopub.status.idle": "2023-02-22T15:00:48.720141Z",
          "shell.execute_reply": "2023-02-22T15:00:48.718884Z"
        },
        "papermill": {
          "duration": 0.084135,
          "end_time": "2023-02-22T15:00:48.722946",
          "exception": false,
          "start_time": "2023-02-22T15:00:48.638811",
          "status": "completed"
        },
        "tags": [],
        "id": "4f44253a"
      },
      "outputs": [],
      "source": [
        "from sklearn.model_selection import train_test_split\n",
        "x_train, x_test, y_train, y_test = train_test_split(x, y, test_size=0.3, random_state=40)"
      ]
    },
    {
      "cell_type": "markdown",
      "id": "a18087e2",
      "metadata": {
        "papermill": {
          "duration": 0.009905,
          "end_time": "2023-02-22T15:00:48.743101",
          "exception": false,
          "start_time": "2023-02-22T15:00:48.733196",
          "status": "completed"
        },
        "tags": [],
        "id": "a18087e2"
      },
      "source": [
        "##### Apply CountVectorizer"
      ]
    },
    {
      "cell_type": "markdown",
      "id": "eaa7eb96",
      "metadata": {
        "papermill": {
          "duration": 0.009765,
          "end_time": "2023-02-22T15:00:48.763017",
          "exception": false,
          "start_time": "2023-02-22T15:00:48.753252",
          "status": "completed"
        },
        "tags": [],
        "id": "eaa7eb96"
      },
      "source": [
        "Using CountVectorizer from sklearn so as to make machine understand the message better"
      ]
    },
    {
      "cell_type": "code",
      "execution_count": 84,
      "id": "7a851c34",
      "metadata": {
        "execution": {
          "iopub.execute_input": "2023-02-22T15:00:48.805793Z",
          "iopub.status.busy": "2023-02-22T15:00:48.805360Z",
          "iopub.status.idle": "2023-02-22T15:00:48.823753Z",
          "shell.execute_reply": "2023-02-22T15:00:48.822689Z"
        },
        "papermill": {
          "duration": 0.033195,
          "end_time": "2023-02-22T15:00:48.826404",
          "exception": false,
          "start_time": "2023-02-22T15:00:48.793209",
          "status": "completed"
        },
        "tags": [],
        "id": "7a851c34"
      },
      "outputs": [],
      "source": [
        "from sklearn.feature_extraction.text import CountVectorizer\n",
        "v = CountVectorizer()"
      ]
    },
    {
      "cell_type": "code",
      "execution_count": 85,
      "id": "cdc32fe6",
      "metadata": {
        "execution": {
          "iopub.execute_input": "2023-02-22T15:00:48.849714Z",
          "iopub.status.busy": "2023-02-22T15:00:48.849251Z",
          "iopub.status.idle": "2023-02-22T15:00:49.038157Z",
          "shell.execute_reply": "2023-02-22T15:00:49.036535Z"
        },
        "papermill": {
          "duration": 0.204089,
          "end_time": "2023-02-22T15:00:49.041115",
          "exception": false,
          "start_time": "2023-02-22T15:00:48.837026",
          "status": "completed"
        },
        "tags": [],
        "colab": {
          "base_uri": "https://localhost:8080/"
        },
        "id": "cdc32fe6",
        "outputId": "3cc54aa6-58e9-445e-8838-589002de518f"
      },
      "outputs": [
        {
          "output_type": "execute_result",
          "data": {
            "text/plain": [
              "array([[0, 0, 0, ..., 0, 0, 0],\n",
              "       [0, 0, 0, ..., 0, 0, 0],\n",
              "       [0, 0, 0, ..., 0, 0, 0]])"
            ]
          },
          "metadata": {},
          "execution_count": 85
        }
      ],
      "source": [
        "# Email converted into number matrix\n",
        "\n",
        "x_train_count = v.fit_transform(x_train.values)\n",
        "x_train_count.toarray()[:3]"
      ]
    },
    {
      "cell_type": "markdown",
      "id": "50de8bdc",
      "metadata": {
        "papermill": {
          "duration": 0.010675,
          "end_time": "2023-02-22T15:00:49.062379",
          "exception": false,
          "start_time": "2023-02-22T15:00:49.051704",
          "status": "completed"
        },
        "tags": [],
        "id": "50de8bdc"
      },
      "source": [
        "About the Classifier- MultinomialNB(Naive Bayes) Classifier\n",
        "\n",
        "Multinomial Naive Bayes: Assumes that the features represent discrete counts, such as word frequencies in a text classification task. This variant is suitable for data with a limited number of possible values."
      ]
    },
    {
      "cell_type": "markdown",
      "id": "420d80f2",
      "metadata": {
        "papermill": {
          "duration": 0.010385,
          "end_time": "2023-02-22T15:00:49.083300",
          "exception": false,
          "start_time": "2023-02-22T15:00:49.072915",
          "status": "completed"
        },
        "tags": [],
        "id": "420d80f2"
      },
      "source": [
        "## Model Implimentation (MultinomialNB)"
      ]
    },
    {
      "cell_type": "code",
      "execution_count": 86,
      "id": "c79a51ea",
      "metadata": {
        "execution": {
          "iopub.execute_input": "2023-02-22T15:00:49.106393Z",
          "iopub.status.busy": "2023-02-22T15:00:49.105457Z",
          "iopub.status.idle": "2023-02-22T15:00:49.113613Z",
          "shell.execute_reply": "2023-02-22T15:00:49.112576Z"
        },
        "papermill": {
          "duration": 0.022426,
          "end_time": "2023-02-22T15:00:49.116224",
          "exception": false,
          "start_time": "2023-02-22T15:00:49.093798",
          "status": "completed"
        },
        "tags": [],
        "id": "c79a51ea"
      },
      "outputs": [],
      "source": [
        "from sklearn.naive_bayes import MultinomialNB\n",
        "model = MultinomialNB()"
      ]
    },
    {
      "cell_type": "markdown",
      "id": "bd81c5ef",
      "metadata": {
        "papermill": {
          "duration": 0.010092,
          "end_time": "2023-02-22T15:00:49.136994",
          "exception": false,
          "start_time": "2023-02-22T15:00:49.126902",
          "status": "completed"
        },
        "tags": [],
        "id": "bd81c5ef"
      },
      "source": [
        "## Model training"
      ]
    },
    {
      "cell_type": "code",
      "execution_count": 87,
      "id": "bce66fd3",
      "metadata": {
        "execution": {
          "iopub.execute_input": "2023-02-22T15:00:49.160843Z",
          "iopub.status.busy": "2023-02-22T15:00:49.159739Z",
          "iopub.status.idle": "2023-02-22T15:00:49.174427Z",
          "shell.execute_reply": "2023-02-22T15:00:49.172723Z"
        },
        "papermill": {
          "duration": 0.02961,
          "end_time": "2023-02-22T15:00:49.177559",
          "exception": false,
          "start_time": "2023-02-22T15:00:49.147949",
          "status": "completed"
        },
        "tags": [],
        "colab": {
          "base_uri": "https://localhost:8080/"
        },
        "id": "bce66fd3",
        "outputId": "aec7f56d-f3a4-4b3d-a841-d7c68aa830ec"
      },
      "outputs": [
        {
          "output_type": "execute_result",
          "data": {
            "text/plain": [
              "MultinomialNB()"
            ]
          },
          "metadata": {},
          "execution_count": 87
        }
      ],
      "source": [
        "model.fit(x_train_count, y_train)"
      ]
    },
    {
      "cell_type": "markdown",
      "id": "8f3e4538",
      "metadata": {
        "papermill": {
          "duration": 0.010955,
          "end_time": "2023-02-22T15:00:49.199759",
          "exception": false,
          "start_time": "2023-02-22T15:00:49.188804",
          "status": "completed"
        },
        "tags": [],
        "id": "8f3e4538"
      },
      "source": [
        "## Evaluating the model"
      ]
    },
    {
      "cell_type": "code",
      "execution_count": 88,
      "id": "3eb8b578",
      "metadata": {
        "execution": {
          "iopub.execute_input": "2023-02-22T15:00:49.223508Z",
          "iopub.status.busy": "2023-02-22T15:00:49.223032Z",
          "iopub.status.idle": "2023-02-22T15:00:49.231530Z",
          "shell.execute_reply": "2023-02-22T15:00:49.230352Z"
        },
        "papermill": {
          "duration": 0.022996,
          "end_time": "2023-02-22T15:00:49.233948",
          "exception": false,
          "start_time": "2023-02-22T15:00:49.210952",
          "status": "completed"
        },
        "tags": [],
        "colab": {
          "base_uri": "https://localhost:8080/"
        },
        "id": "3eb8b578",
        "outputId": "4cfff93f-435f-4973-9942-839761495798"
      },
      "outputs": [
        {
          "output_type": "execute_result",
          "data": {
            "text/plain": [
              "array([0, 1])"
            ]
          },
          "metadata": {},
          "execution_count": 88
        }
      ],
      "source": [
        "emails = [ 'Hey mohan, can we get together to watch footbal game tomorrow?',\n",
        "    'Upto 20% discount on parking, exclusive offer just for you. Dont miss this reward!']\n",
        "emails_count = v.transform(emails)\n",
        "model.predict(emails_count)"
      ]
    },
    {
      "cell_type": "code",
      "execution_count": 89,
      "id": "31b87866",
      "metadata": {
        "execution": {
          "iopub.execute_input": "2023-02-22T15:00:49.258391Z",
          "iopub.status.busy": "2023-02-22T15:00:49.257664Z",
          "iopub.status.idle": "2023-02-22T15:00:49.293654Z",
          "shell.execute_reply": "2023-02-22T15:00:49.292361Z"
        },
        "papermill": {
          "duration": 0.051367,
          "end_time": "2023-02-22T15:00:49.296562",
          "exception": false,
          "start_time": "2023-02-22T15:00:49.245195",
          "status": "completed"
        },
        "tags": [],
        "colab": {
          "base_uri": "https://localhost:8080/"
        },
        "id": "31b87866",
        "outputId": "92729ba5-d083-4538-c1c1-fd66bb6f198b"
      },
      "outputs": [
        {
          "output_type": "execute_result",
          "data": {
            "text/plain": [
              "array([0, 1, 0, ..., 0, 1, 0])"
            ]
          },
          "metadata": {},
          "execution_count": 89
        }
      ],
      "source": [
        "x_test_count = v.transform(x_test)\n",
        "model.predict(x_test_count)"
      ]
    },
    {
      "cell_type": "code",
      "execution_count": 90,
      "id": "781185d4",
      "metadata": {
        "execution": {
          "iopub.execute_input": "2023-02-22T15:00:49.320739Z",
          "iopub.status.busy": "2023-02-22T15:00:49.319444Z",
          "iopub.status.idle": "2023-02-22T15:00:49.329745Z",
          "shell.execute_reply": "2023-02-22T15:00:49.328670Z"
        },
        "papermill": {
          "duration": 0.02511,
          "end_time": "2023-02-22T15:00:49.332390",
          "exception": false,
          "start_time": "2023-02-22T15:00:49.307280",
          "status": "completed"
        },
        "tags": [],
        "colab": {
          "base_uri": "https://localhost:8080/"
        },
        "id": "781185d4",
        "outputId": "ec2ee069-ec34-4f2a-e397-03fa8c4df780"
      },
      "outputs": [
        {
          "output_type": "execute_result",
          "data": {
            "text/plain": [
              "0.986244019138756"
            ]
          },
          "metadata": {},
          "execution_count": 90
        }
      ],
      "source": [
        "model.score(x_test_count, y_test)"
      ]
    },
    {
      "cell_type": "code",
      "execution_count": 91,
      "id": "ec6e8192",
      "metadata": {
        "execution": {
          "iopub.execute_input": "2023-02-22T15:00:49.357645Z",
          "iopub.status.busy": "2023-02-22T15:00:49.356458Z",
          "iopub.status.idle": "2023-02-22T15:00:49.362347Z",
          "shell.execute_reply": "2023-02-22T15:00:49.361350Z"
        },
        "papermill": {
          "duration": 0.020856,
          "end_time": "2023-02-22T15:00:49.364974",
          "exception": false,
          "start_time": "2023-02-22T15:00:49.344118",
          "status": "completed"
        },
        "tags": [],
        "id": "ec6e8192"
      },
      "outputs": [],
      "source": [
        "pred = model.predict(x_test_count)"
      ]
    },
    {
      "cell_type": "markdown",
      "source": [
        "## Confusion Matrix\n",
        "1 Denotes Spam\n",
        "\n",
        "0 Denotes Ham"
      ],
      "metadata": {
        "id": "sXSLlKVsAbTd"
      },
      "id": "sXSLlKVsAbTd"
    },
    {
      "cell_type": "code",
      "execution_count": 92,
      "id": "e3152adb",
      "metadata": {
        "execution": {
          "iopub.execute_input": "2023-02-22T15:00:49.390017Z",
          "iopub.status.busy": "2023-02-22T15:00:49.389214Z",
          "iopub.status.idle": "2023-02-22T15:00:49.400860Z",
          "shell.execute_reply": "2023-02-22T15:00:49.399483Z"
        },
        "papermill": {
          "duration": 0.027668,
          "end_time": "2023-02-22T15:00:49.403640",
          "exception": false,
          "start_time": "2023-02-22T15:00:49.375972",
          "status": "completed"
        },
        "tags": [],
        "colab": {
          "base_uri": "https://localhost:8080/",
          "height": 335
        },
        "id": "e3152adb",
        "outputId": "cb2331de-df6c-49e4-99bc-1dbbc9d46a2a"
      },
      "outputs": [
        {
          "output_type": "stream",
          "name": "stderr",
          "text": [
            "/usr/local/lib/python3.8/dist-packages/sklearn/utils/deprecation.py:87: FutureWarning: Function plot_confusion_matrix is deprecated; Function `plot_confusion_matrix` is deprecated in 1.0 and will be removed in 1.2. Use one of the class methods: ConfusionMatrixDisplay.from_predictions or ConfusionMatrixDisplay.from_estimator.\n",
            "  warnings.warn(msg, category=FutureWarning)\n"
          ]
        },
        {
          "output_type": "display_data",
          "data": {
            "text/plain": [
              "<Figure size 432x288 with 2 Axes>"
            ],
            "image/png": "[encoded data removed]"
          },
          "metadata": {
            "needs_background": "light"
          }
        }
      ],
      "source": [
        "from sklearn.metrics import plot_confusion_matrix\n",
        "\n",
        "ps=plot_confusion_matrix(model,x_test_count,y_test)\n"
      ]
    },
    {
      "cell_type": "markdown",
      "source": [
        "## --END OF CODE --\n",
        "\n",
        "\n",
        "---\n",
        "\n"
      ],
      "metadata": {
        "id": "jjIcfMK4ESxw"
      },
      "id": "jjIcfMK4ESxw"
    }
  ],
  "metadata": {
    "kernelspec": {
      "display_name": "Python 3",
      "language": "python",
      "name": "python3"
    },
    "language_info": {
      "codemirror_mode": {
        "name": "ipython",
        "version": 3
      },
      "file_extension": ".py",
      "mimetype": "text/x-python",
      "name": "python",
      "nbconvert_exporter": "python",
      "pygments_lexer": "ipython3",
      "version": "3.7.12"
    },
    "papermill": {
      "default_parameters": {},
      "duration": 13.804505,
      "end_time": "2023-02-22T15:00:50.620360",
      "environment_variables": {},
      "exception": null,
      "input_path": "__notebook__.ipynb",
      "output_path": "__notebook__.ipynb",
      "parameters": {},
      "start_time": "2023-02-22T15:00:36.815855",
      "version": "2.3.4"
    },
    "colab": {
      "provenance": []
    }
  },
  "nbformat": 4,
  "nbformat_minor": 5
}